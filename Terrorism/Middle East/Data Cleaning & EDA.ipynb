{
 "cells": [
  {
   "cell_type": "markdown",
   "id": "dc631371",
   "metadata": {},
   "source": [
    "# Terrorism in the Middle East - Data Cleaning & EDA\n",
    "\n",
    "This .ipynb notebook contains the data cleaning process and the exploratory data analysis that is meant to map the landscape of the terrorism occuring in the Middle East.\n",
    "\n",
    "## Project Objectives\n",
    "\n",
    "The objectives of the project in its entirety are manifold. The objectives of the project are:\n",
    "<ol>\n",
    "    <li>Gain an understanding of landscape of terrorism in the Middle East.</li>\n",
    "    <li>Establish a timeline of the development of terrorism in the Middle East.</li>\n",
    "    <li>Understand the motivations of terrorist in the Middle Eastern region. </li>\n",
    "    <li>Draw paralles to the observations found of terrorism in Europe.</li>\n",
    "</ol>\n",
    "\n",
    "Before these can be answered the dataset requires cleaning and subsequently an initial analysis of the processed dataset can be carried out."
   ]
  },
  {
   "cell_type": "markdown",
   "id": "5d96bc9e",
   "metadata": {},
   "source": [
    "### Importing Libraries & Dataset"
   ]
  },
  {
   "cell_type": "code",
   "execution_count": null,
   "id": "c79f00f7",
   "metadata": {},
   "outputs": [],
   "source": [
    "# General purpose libraries.\n",
    "import pandas as pd\n",
    "import numpy as np\n",
    "import sys\n",
    "\n",
    "# Visualisation libraries.\n",
    "import altair as alt\n",
    "alt.data_transformers.disable_max_rows() # Disable max rows for Altair.\n",
    "from vega_datasets import data\n",
    "\n",
    "# Import functions.\n",
    "sys.path.insert(1, '../Functions') # Setting path to 'Functions' folder.\n",
    "from data_cleaning import data_cleaner # Import data cleaner object.\n",
    "from map_creator import simple_map # Import simple map creator.\n",
    "from eda import eda # Import EDA class.\n",
    "\n",
    "# Setting path to data.\n",
    "path = '../Data/' # Setting path to data."
   ]
  },
  {
   "cell_type": "code",
   "execution_count": null,
   "id": "4f73ab41",
   "metadata": {},
   "outputs": [],
   "source": [
    "# Importing data.\n",
    "raw_data = pd.read_excel(path + 'globalterrorism.xlsx')"
   ]
  },
  {
   "cell_type": "markdown",
   "id": "b01fffb8",
   "metadata": {},
   "source": [
    "### Cleaning Data\n",
    "\n",
    "A few pre-processing steps are required. Firstly, the dataset needs to be cut down to only include the Middle Eastern (and North African) region, and deleting columns with a high degree of NaN values."
   ]
  },
  {
   "cell_type": "code",
   "execution_count": null,
   "id": "9f79c018",
   "metadata": {},
   "outputs": [],
   "source": [
    "# Use the data cleaner function to clean the dataset. \n",
    "# For a full description of its functionality, please refer to the\n",
    "# data_cleaning.py file.\n",
    "\n",
    "# Set the region to 10 (Middle East & North Africa), the intended name of the cleaned file,\n",
    "# a path where it should be saved, and insert the original dataset.\n",
    "\n",
    "data = data_cleaner(region=10, file_name='region_middle_east.csv',path = path, df=raw_data)"
   ]
  },
  {
   "cell_type": "code",
   "execution_count": null,
   "id": "f20eb7f8",
   "metadata": {},
   "outputs": [],
   "source": [
    "# Load cleaned dataset.\n",
    "df = pd.read_csv(path + 'region_middle_east.csv')"
   ]
  },
  {
   "cell_type": "markdown",
   "id": "ecfe20c0",
   "metadata": {},
   "source": [
    "### Exploratory Data Analysis "
   ]
  },
  {
   "cell_type": "code",
   "execution_count": null,
   "id": "27d10b34",
   "metadata": {},
   "outputs": [],
   "source": [
    "eda = eda(df)\n",
    "plot = eda.group_plot()\n",
    "time, activity = eda.simple_plots()"
   ]
  },
  {
   "cell_type": "markdown",
   "id": "1e7a787b",
   "metadata": {},
   "source": [
    "#### Timeline of Terrorist Activity in the Middle East"
   ]
  },
  {
   "cell_type": "code",
   "execution_count": null,
   "id": "0a2bb7a3",
   "metadata": {},
   "outputs": [],
   "source": [
    "time"
   ]
  },
  {
   "cell_type": "markdown",
   "id": "2b4745d6",
   "metadata": {},
   "source": [
    "#### Activity per Group"
   ]
  },
  {
   "cell_type": "code",
   "execution_count": null,
   "id": "d443c3c8",
   "metadata": {},
   "outputs": [],
   "source": [
    "activity"
   ]
  },
  {
   "cell_type": "markdown",
   "id": "8feb0bc6",
   "metadata": {},
   "source": [
    "#### Timeline of Most Active Groups"
   ]
  },
  {
   "cell_type": "code",
   "execution_count": null,
   "id": "ea34aacb",
   "metadata": {},
   "outputs": [],
   "source": [
    "plot"
   ]
  },
  {
   "cell_type": "markdown",
   "id": "da3e6405",
   "metadata": {},
   "source": [
    "#### Map of Terrorist Activity in the Middle East Region"
   ]
  },
  {
   "cell_type": "code",
   "execution_count": null,
   "id": "824a0027",
   "metadata": {},
   "outputs": [],
   "source": [
    "# Map translation values to center map in Middle Eastern region/North Africa.\n",
    "map_projection = simple_map(df, x_translation=160, y_translation=650, map_scale=1200)\n",
    "map_projection"
   ]
  }
 ],
 "metadata": {
  "kernelspec": {
   "display_name": "Python 3",
   "language": "python",
   "name": "python3"
  },
  "language_info": {
   "codemirror_mode": {
    "name": "ipython",
    "version": 3
   },
   "file_extension": ".py",
   "mimetype": "text/x-python",
   "name": "python",
   "nbconvert_exporter": "python",
   "pygments_lexer": "ipython3",
   "version": "3.8.8"
  }
 },
 "nbformat": 4,
 "nbformat_minor": 5
}
